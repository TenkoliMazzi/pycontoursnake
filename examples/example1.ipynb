{
 "cells": [
  {
   "cell_type": "code",
   "execution_count": null,
   "metadata": {},
   "outputs": [],
   "source": [
    "import sys\n",
    "import os\n",
    "\n",
    "package_path = os.path.abspath(os.path.join(os.getcwd(), '..'))\n",
    "\n",
    "if package_path not in sys.path:\n",
    "    sys.path.append(package_path)\n",
    "\n",
    "import torch\n",
    "from pycontoursnake import Snake\n",
    "from pycontoursnake.constraints import SpringConstraint\n",
    "from pycontoursnake.shapes import Ellipse\n",
    "import cv2\n",
    "import numpy as np\n",
    "\n",
    "image = cv2.imread('images/brain.png')\n",
    "padding = 50\n",
    "\n",
    "padded_image = np.pad(image, ((4*padding, 4*padding), (padding, padding), (0, 0)), mode='constant', constant_values=255)\n",
    "\n",
    "height, width = padded_image.shape[:2]\n",
    "center = (width // 2, height // 2)\n",
    "#  Set parameters\n",
    "\n",
    "\n",
    "N = 2000\n",
    "shape_specs = {\n",
    "    'center': center,\n",
    "    'a': padded_image.shape[0] // 2.5,\n",
    "    'b': padded_image.shape[1] // 3,\n",
    "    'angle': 0.0,\n",
    "}\n",
    "initial_points = Ellipse().generate(N, **shape_specs)\n",
    "def rest_length_fn(points):   \n",
    "    distances = torch.linalg.norm(points - torch.tensor(center), axis=1)  \n",
    "    mean_distance = torch.mean(distances)\n",
    "    variance = torch.var(distances)\n",
    "    return torch.pow(distances - mean_distance, 2) / variance\n",
    "\n",
    "constraints = [\n",
    "    SpringConstraint(pin_point=center, weight=0.00005, rest_length=rest_length_fn),\n",
    "]\n",
    "\n",
    "parameters = {\n",
    "    'alpha': .05,\n",
    "    'beta': 0.005,\n",
    "    'sigma': 2,\n",
    "    'gamma': 0.5,\n",
    "    'delta': -0.5,\n",
    "    'lr': 2,\n",
    "    'verbose': True,\n",
    "    'iter_max': 1000,\n",
    "    'constraints': constraints,   \n",
    "    'gradient_threshold': 0.10,\n",
    "}\n",
    "\n",
    "\n",
    "\n",
    "#  Initialize snake\n",
    "snake = Snake(N, padded_image, points=initial_points, **parameters)\n",
    "snake.gradient_descent(plot_skip=250)\n",
    "\n"
   ]
  },
  {
   "cell_type": "code",
   "execution_count": null,
   "metadata": {},
   "outputs": [],
   "source": [
    "%matplotlib ipympl\n",
    "from matplotlib.animation import FuncAnimation\n",
    "\n",
    "\n",
    "ani = snake.plot_evolution()\n",
    "ani.save('brain.gif', writer='FFMpegWriter', fps=600)"
   ]
  }
 ],
 "metadata": {
  "kernelspec": {
   "display_name": "Python 3",
   "language": "python",
   "name": "python3"
  },
  "language_info": {
   "codemirror_mode": {
    "name": "ipython",
    "version": 3
   },
   "file_extension": ".py",
   "mimetype": "text/x-python",
   "name": "python",
   "nbconvert_exporter": "python",
   "pygments_lexer": "ipython3",
   "version": "3.11.6"
  }
 },
 "nbformat": 4,
 "nbformat_minor": 2
}
